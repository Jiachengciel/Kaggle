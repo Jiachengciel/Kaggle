{
 "cells": [
  {
   "cell_type": "markdown",
   "metadata": {},
   "source": [
    "# Digit Recognizer by Neural Network"
   ]
  },
  {
   "cell_type": "markdown",
   "metadata": {},
   "source": [
    "`神经网络` 训练识别手写数字体\n",
    "\n",
    "`Accuracy:` 96.64%\n",
    "\n",
    "`Time:` 386.67s\n",
    "\n",
    "---\n",
    "\n",
    "Created on 2019-05-24\n",
    "\n",
    "Update  on 2019-05-26\n",
    "\n",
    "Author: 家丞\n",
    "\n",
    "Github: https://github.com/Jiachengciel/Kaggle\n"
   ]
  },
  {
   "cell_type": "markdown",
   "metadata": {},
   "source": [
    "---\n",
    "\n",
    "## 一. 基础环境配置"
   ]
  },
  {
   "cell_type": "code",
   "execution_count": 1,
   "metadata": {},
   "outputs": [],
   "source": [
    "import os\n",
    "import numpy as np\n",
    "import pandas as pd\n",
    "import seaborn as sns\n",
    "import time\n",
    "import matplotlib.pyplot as plt\n",
    "\n",
    "import torch\n",
    "import torch.nn as nn\n",
    "import torchvision.transforms as transforms\n",
    "from torch.autograd import Variable\n",
    "from sklearn.model_selection import train_test_split\n",
    "\n",
    "%matplotlib inline\n",
    "sns.set(style='white', context='notebook', palette='deep')"
   ]
  },
  {
   "cell_type": "markdown",
   "metadata": {},
   "source": [
    "---\n",
    "\n",
    "## 二. 数据分析"
   ]
  },
  {
   "cell_type": "markdown",
   "metadata": {},
   "source": [
    "### 2.1 数据导入 "
   ]
  },
  {
   "cell_type": "code",
   "execution_count": 2,
   "metadata": {},
   "outputs": [
    {
     "name": "stdout",
     "output_type": "stream",
     "text": [
      "Number of examples: 42000, shape of input: (42000, 784)\n"
     ]
    }
   ],
   "source": [
    "# Load the data\n",
    "train_data = pd.read_csv(\"input/train.csv\")\n",
    "\n",
    "# Classify the data\n",
    "Y_data = train_data.label\n",
    "X_data = train_data.drop(labels=['label'], axis=1)\n",
    "\n",
    "# Free some space\n",
    "del train_data\n",
    "\n",
    "print(\"Number of examples: {}, shape of input: {}\".format(X_data.shape[0], X_data.shape))\n"
   ]
  },
  {
   "cell_type": "markdown",
   "metadata": {},
   "source": [
    "### 2.2 数据可视化"
   ]
  },
  {
   "cell_type": "code",
   "execution_count": 3,
   "metadata": {},
   "outputs": [
    {
     "data": {
      "text/plain": [
       "1    4684\n",
       "7    4401\n",
       "3    4351\n",
       "9    4188\n",
       "2    4177\n",
       "6    4137\n",
       "0    4132\n",
       "4    4072\n",
       "8    4063\n",
       "5    3795\n",
       "Name: label, dtype: int64"
      ]
     },
     "execution_count": 3,
     "metadata": {},
     "output_type": "execute_result"
    },
    {
     "data": {
      "image/png": "[encoded data removed]",
      "text/plain": [
       "<Figure size 432x288 with 1 Axes>"
      ]
     },
     "metadata": {
      "needs_background": "light"
     },
     "output_type": "display_data"
    }
   ],
   "source": [
    "g = sns.countplot(Y_data)\n",
    "Y_data.value_counts()"
   ]
  },
  {
   "cell_type": "markdown",
   "metadata": {},
   "source": [
    "---\n",
    "\n",
    "## 三. 特征工程"
   ]
  },
  {
   "cell_type": "markdown",
   "metadata": {},
   "source": [
    "### 3.1 检查缺失值"
   ]
  },
  {
   "cell_type": "code",
   "execution_count": 4,
   "metadata": {},
   "outputs": [
    {
     "data": {
      "text/plain": [
       "count       784\n",
       "unique        1\n",
       "top       False\n",
       "freq        784\n",
       "dtype: object"
      ]
     },
     "execution_count": 4,
     "metadata": {},
     "output_type": "execute_result"
    }
   ],
   "source": [
    "X_data.isnull().any().describe()"
   ]
  },
  {
   "cell_type": "markdown",
   "metadata": {},
   "source": [
    "### 3.2 标准化"
   ]
  },
  {
   "cell_type": "code",
   "execution_count": 5,
   "metadata": {},
   "outputs": [],
   "source": [
    "X_np = X_data.values / 255 \n",
    "Y_np = Y_data.values"
   ]
  },
  {
   "cell_type": "markdown",
   "metadata": {},
   "source": [
    "### 3.3 分割训练集和测试集"
   ]
  },
  {
   "cell_type": "code",
   "execution_count": 6,
   "metadata": {},
   "outputs": [
    {
     "name": "stdout",
     "output_type": "stream",
     "text": [
      "Quantity of examples in Train: 33600\n",
      "Quantity of examples in Test: 8400\n"
     ]
    }
   ],
   "source": [
    "X_train, X_test, Y_train, Y_test = train_test_split(X_np, Y_np,\n",
    "                                                   test_size=0.2,\n",
    "                                                   random_state=16)\n",
    "print(\"Quantity of examples in Train: {}\\nQuantity of examples in Test: {}\".format(X_train.shape[0], X_test.shape[0]))"
   ]
  },
  {
   "cell_type": "markdown",
   "metadata": {},
   "source": [
    "### 3.4 转换为Tensor形式"
   ]
  },
  {
   "cell_type": "code",
   "execution_count": 7,
   "metadata": {},
   "outputs": [],
   "source": [
    "X_Train = torch.from_numpy(X_train)\n",
    "Y_Train = torch.from_numpy(Y_train).type(torch.LongTensor)\n",
    "\n",
    "X_Test = torch.from_numpy(X_test)\n",
    "Y_Test = torch.from_numpy(Y_test).type(torch.LongTensor)"
   ]
  },
  {
   "cell_type": "code",
   "execution_count": 8,
   "metadata": {},
   "outputs": [
    {
     "data": {
      "image/png": "[encoded data removed]",
      "text/plain": [
       "<Figure size 432x288 with 1 Axes>"
      ]
     },
     "metadata": {
      "needs_background": "light"
     },
     "output_type": "display_data"
    }
   ],
   "source": [
    "# 可视化\n",
    "plt.imshow(X_np[26].reshape(28,28))\n",
    "plt.axis('off')\n",
    "plt.title(str(Y_np[26]))\n",
    "plt.show()"
   ]
  },
  {
   "cell_type": "markdown",
   "metadata": {},
   "source": [
    "---\n",
    "\n",
    "## 四. 模型选择和使用"
   ]
  },
  {
   "cell_type": "markdown",
   "metadata": {},
   "source": [
    "### 4.1 定义参数"
   ]
  },
  {
   "cell_type": "code",
   "execution_count": 9,
   "metadata": {},
   "outputs": [],
   "source": [
    "BATCH_SIZE = 50\n",
    "EPOCH = 15\n",
    "\n",
    "Input_dim = 28*28\n",
    "Hidden1_dim = 250\n",
    "Hidden2_dim = Hidden3_dim = 100\n",
    "Output_dim = 10\n",
    "\n",
    "Learning_Rate = 0.02"
   ]
  },
  {
   "cell_type": "markdown",
   "metadata": {},
   "source": [
    "### 4.2 载入数据"
   ]
  },
  {
   "cell_type": "code",
   "execution_count": 10,
   "metadata": {},
   "outputs": [],
   "source": [
    "train = torch.utils.data.TensorDataset(X_Train, Y_Train)\n",
    "test = torch.utils.data.TensorDataset(X_Test, Y_Test)\n",
    "\n",
    "train_loader = torch.utils.data.DataLoader(train, BATCH_SIZE, shuffle=True)\n",
    "test_loader = torch.utils.data.DataLoader(test, BATCH_SIZE, shuffle=False)\n"
   ]
  },
  {
   "cell_type": "markdown",
   "metadata": {},
   "source": [
    "### 4.3 定义模型"
   ]
  },
  {
   "cell_type": "code",
   "execution_count": 11,
   "metadata": {},
   "outputs": [
    {
     "name": "stdout",
     "output_type": "stream",
     "text": [
      "NeuralNetwork(\n",
      "  (NN): Sequential(\n",
      "    (0): Linear(in_features=784, out_features=250, bias=True)\n",
      "    (1): ReLU()\n",
      "    (2): Linear(in_features=250, out_features=100, bias=True)\n",
      "    (3): Tanh()\n",
      "    (4): Linear(in_features=100, out_features=100, bias=True)\n",
      "    (5): ELU(alpha=1.0)\n",
      "  )\n",
      "  (out): Linear(in_features=100, out_features=10, bias=True)\n",
      ")\n"
     ]
    }
   ],
   "source": [
    "class NeuralNetwork(nn.Module):\n",
    "    def __init__(self, Input_dim, Hidden1_dim, Hidden2_dim, Hidden3_dim, Output_dim):\n",
    "        super(NeuralNetwork, self).__init__()\n",
    "        \n",
    "        self.NN = nn.Sequential(\n",
    "            # 1 layer: 784 --> 250\n",
    "            nn.Linear(Input_dim, Hidden1_dim),\n",
    "            nn.ReLU(),\n",
    "            # 2 layer: 250 --> 100\n",
    "            nn.Linear(Hidden1_dim, Hidden2_dim),\n",
    "            nn.Tanh(),\n",
    "            # 3 layer: 100 --> 100\n",
    "            nn.Linear(Hidden2_dim, Hidden3_dim),\n",
    "            nn.ELU(),\n",
    "        )\n",
    "         # 4 layer: 100 --> 10\n",
    "        self.out = nn.Linear(Hidden3_dim, Output_dim)\n",
    "        \n",
    "    def forward(self, x):\n",
    "        y = self.NN(x)\n",
    "        out = self.out(y)\n",
    "        return out\n",
    "    \n",
    "model = NeuralNetwork(Input_dim, Hidden1_dim, Hidden2_dim, Hidden3_dim, Output_dim)\n",
    "error = nn.CrossEntropyLoss()\n",
    "optimizer = torch.optim.SGD(model.parameters(), lr=Learning_Rate)\n",
    "\n",
    "print(model)"
   ]
  },
  {
   "cell_type": "markdown",
   "metadata": {},
   "source": [
    "### 4.4 训练模型"
   ]
  },
  {
   "cell_type": "code",
   "execution_count": 12,
   "metadata": {
    "scrolled": true
   },
   "outputs": [
    {
     "name": "stdout",
     "output_type": "stream",
     "text": [
      "Iteration: 500 Loss: 1.1888461112976074 Accuracy: 74.51 %\n",
      "Iteration: 1000 Loss: 0.651594877243042 Accuracy: 87.43 %\n",
      "Iteration: 1500 Loss: 0.3641195595264435 Accuracy: 89.65 %\n",
      "Iteration: 2000 Loss: 0.1792561411857605 Accuracy: 90.9 %\n",
      "Iteration: 2500 Loss: 0.3956226408481598 Accuracy: 91.7 %\n",
      "Iteration: 3000 Loss: 0.16354869306087494 Accuracy: 92.68 %\n",
      "Iteration: 3500 Loss: 0.21069036424160004 Accuracy: 93.42 %\n",
      "Iteration: 4000 Loss: 0.18269020318984985 Accuracy: 94.13 %\n",
      "Iteration: 4500 Loss: 0.11764658242464066 Accuracy: 94.48 %\n",
      "Iteration: 5000 Loss: 0.03900475427508354 Accuracy: 94.95 %\n",
      "Iteration: 5500 Loss: 0.16841179132461548 Accuracy: 95.39 %\n",
      "Iteration: 6000 Loss: 0.1387794464826584 Accuracy: 95.57 %\n",
      "Iteration: 6500 Loss: 0.058572303503751755 Accuracy: 95.85 %\n",
      "Iteration: 7000 Loss: 0.047127190977334976 Accuracy: 95.9 %\n",
      "Iteration: 7500 Loss: 0.03813285753130913 Accuracy: 96.19 %\n",
      "Iteration: 8000 Loss: 0.06524886935949326 Accuracy: 96.19 %\n",
      "Iteration: 8500 Loss: 0.029939480125904083 Accuracy: 96.51 %\n",
      "Iteration: 9000 Loss: 0.09023232758045197 Accuracy: 96.58 %\n",
      "Iteration: 9500 Loss: 0.04277040436863899 Accuracy: 96.71 %\n",
      "Iteration: 10000 Loss: 0.03572174534201622 Accuracy: 96.64 %\n",
      "运行时间：386.67314600000003 s\n"
     ]
    }
   ],
   "source": [
    "count = 0\n",
    "loss_list =[]\n",
    "iteration_list = []\n",
    "accuracy_list = []\n",
    "start = time.clock()\n",
    "\n",
    "for epoch in range(EPOCH):\n",
    "    for step, (images, labels) in enumerate(train_loader):\n",
    "        train = Variable(images.view(-1, 28*28))\n",
    "        labels = Variable(labels)\n",
    "        \n",
    "        # Clear gradients\n",
    "        optimizer.zero_grad()\n",
    "        \n",
    "        # Forward \n",
    "        outputs = model(train.float())\n",
    "        \n",
    "        # Calculate the loss\n",
    "        loss = error(outputs, labels)\n",
    "        \n",
    "        # Backward\n",
    "        loss.backward()\n",
    "        \n",
    "        # Update parameters\n",
    "        optimizer.step()\n",
    "        \n",
    "        count += 1\n",
    "        \n",
    "        if count % 50 == 0:\n",
    "            # Calculate accuracy\n",
    "            correct = 0\n",
    "            \n",
    "            for images, labels in test_loader:\n",
    "                test = Variable(images.view(-1, 28*28))\n",
    "                \n",
    "                outputs = model(test.float())\n",
    "                \n",
    "                # 提取indices\n",
    "                predicted = torch.max(outputs.data, 1)[1]\n",
    "                \n",
    "                correct += (predicted == labels).sum()\n",
    "            \n",
    "            accuracy = round(float(100 * correct.item() / float(X_test.shape[0])), 2)\n",
    "            \n",
    "            # Store loss and accuracy\n",
    "            loss_list.append(loss.data)\n",
    "            iteration_list.append(count)\n",
    "            accuracy_list.append(accuracy)\n",
    "            \n",
    "            if count % 500 == 0:\n",
    "                print('Iteration: {} Loss: {} Accuracy: {} %'.format(count, loss.data, accuracy))\n",
    "\n",
    "                \n",
    "end = time.clock()\n",
    "print(\"运行时间：{} s\".format(end-start))\n",
    "                "
   ]
  },
  {
   "cell_type": "markdown",
   "metadata": {},
   "source": [
    "### 4.5 可视化训练过程"
   ]
  },
  {
   "cell_type": "code",
   "execution_count": 13,
   "metadata": {},
   "outputs": [
    {
     "data": {
      "image/png": "[encoded data removed]",
      "text/plain": [
       "<Figure size 432x288 with 1 Axes>"
      ]
     },
     "metadata": {
      "needs_background": "light"
     },
     "output_type": "display_data"
    },
    {
     "data": {
      "image/png": "[encoded data removed]",
      "text/plain": [
       "<Figure size 432x288 with 1 Axes>"
      ]
     },
     "metadata": {
      "needs_background": "light"
     },
     "output_type": "display_data"
    }
   ],
   "source": [
    "plt.plot(iteration_list, loss_list)\n",
    "plt.xlabel(\"Number of iteration\")\n",
    "plt.ylabel(\"Loss\")\n",
    "plt.title(\"NN: Loss vs Number of iteration\")\n",
    "plt.show()\n",
    "\n",
    "plt.plot(iteration_list,accuracy_list,color = \"red\")\n",
    "plt.xlabel(\"Number of iteration\")\n",
    "plt.ylabel(\"Accuracy\")\n",
    "plt.title(\"ANN: Accuracy vs Number of iteration\")\n",
    "plt.show()\n"
   ]
  },
  {
   "cell_type": "code",
   "execution_count": null,
   "metadata": {},
   "outputs": [],
   "source": []
  }
 ],
 "metadata": {
  "kernelspec": {
   "display_name": "Python 3",
   "language": "python",
   "name": "python3"
  },
  "language_info": {
   "codemirror_mode": {
    "name": "ipython",
    "version": 3
   },
   "file_extension": ".py",
   "mimetype": "text/x-python",
   "name": "python",
   "nbconvert_exporter": "python",
   "pygments_lexer": "ipython3",
   "version": "3.6.8"
  }
 },
 "nbformat": 4,
 "nbformat_minor": 2
}
